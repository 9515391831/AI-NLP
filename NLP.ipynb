{
  "nbformat": 4,
  "nbformat_minor": 0,
  "metadata": {
    "colab": {
      "name": "NLP",
      "provenance": [],
      "authorship_tag": "ABX9TyO62odYzxcAXGtdW14+uBuZ",
      "include_colab_link": true
    },
    "kernelspec": {
      "name": "python3",
      "display_name": "Python 3"
    }
  },
  "cells": [
    {
      "cell_type": "markdown",
      "metadata": {
        "id": "view-in-github",
        "colab_type": "text"
      },
      "source": [
        "<a href=\"https://colab.research.google.com/github/9515391831/AI-NLP/blob/main/NLP.ipynb\" target=\"_parent\"><img src=\"https://colab.research.google.com/assets/colab-badge.svg\" alt=\"Open In Colab\"/></a>"
      ]
    },
    {
      "cell_type": "markdown",
      "metadata": {
        "id": "BhLxNYAwzcDI"
      },
      "source": [
        "Bag Of Words"
      ]
    },
    {
      "cell_type": "code",
      "metadata": {
        "id": "agazWZM6k8Hc",
        "colab": {
          "base_uri": "https://localhost:8080/",
          "height": 34
        },
        "outputId": "4706dc6a-f863-460c-a4fd-93e8060ac2ab"
      },
      "source": [
        "a=[\"Bala\",\"mahesh\",\"chilakala\"]\n",
        "a"
      ],
      "execution_count": null,
      "outputs": [
        {
          "output_type": "execute_result",
          "data": {
            "text/plain": [
              "['Bala', 'mahesh', 'chilakala']"
            ]
          },
          "metadata": {
            "tags": []
          },
          "execution_count": 21
        }
      ]
    },
    {
      "cell_type": "code",
      "metadata": {
        "id": "4pT2frkulFEd"
      },
      "source": [
        "from sklearn.feature_extraction.text import CountVectorizer"
      ],
      "execution_count": null,
      "outputs": []
    },
    {
      "cell_type": "code",
      "metadata": {
        "id": "lnUH_9fWlmgT",
        "colab": {
          "base_uri": "https://localhost:8080/",
          "height": 34
        },
        "outputId": "1b9d86f7-3694-4ba2-f56b-a6d9a53aa8a2"
      },
      "source": [
        "b=CountVectorizer()\n",
        "b.fit(a)\n",
        "b.get_feature_names()"
      ],
      "execution_count": null,
      "outputs": [
        {
          "output_type": "execute_result",
          "data": {
            "text/plain": [
              "['bala', 'chilakala', 'mahesh']"
            ]
          },
          "metadata": {
            "tags": []
          },
          "execution_count": 23
        }
      ]
    },
    {
      "cell_type": "code",
      "metadata": {
        "id": "AVv_LcclmdtK"
      },
      "source": [
        "c=b.transform(a)"
      ],
      "execution_count": null,
      "outputs": []
    },
    {
      "cell_type": "code",
      "metadata": {
        "id": "h_yhU5zJm_RT",
        "colab": {
          "base_uri": "https://localhost:8080/",
          "height": 69
        },
        "outputId": "68266834-478f-4ffc-fe3f-fa09e8074013"
      },
      "source": [
        "c.toarray()"
      ],
      "execution_count": null,
      "outputs": [
        {
          "output_type": "execute_result",
          "data": {
            "text/plain": [
              "array([[1, 0, 0],\n",
              "       [0, 0, 1],\n",
              "       [0, 1, 0]])"
            ]
          },
          "metadata": {
            "tags": []
          },
          "execution_count": 25
        }
      ]
    },
    {
      "cell_type": "code",
      "metadata": {
        "id": "cnRpzx3CnDaG",
        "colab": {
          "base_uri": "https://localhost:8080/",
          "height": 138
        },
        "outputId": "0f88df71-02bd-4c24-a273-adfcb88381cc"
      },
      "source": [
        "import pandas as pd\n",
        "d=pd.DataFrame(c.toarray())\n",
        "d.columns=b.get_feature_names()\n",
        "d"
      ],
      "execution_count": null,
      "outputs": [
        {
          "output_type": "execute_result",
          "data": {
            "text/html": [
              "<div>\n",
              "<style scoped>\n",
              "    .dataframe tbody tr th:only-of-type {\n",
              "        vertical-align: middle;\n",
              "    }\n",
              "\n",
              "    .dataframe tbody tr th {\n",
              "        vertical-align: top;\n",
              "    }\n",
              "\n",
              "    .dataframe thead th {\n",
              "        text-align: right;\n",
              "    }\n",
              "</style>\n",
              "<table border=\"1\" class=\"dataframe\">\n",
              "  <thead>\n",
              "    <tr style=\"text-align: right;\">\n",
              "      <th></th>\n",
              "      <th>bala</th>\n",
              "      <th>chilakala</th>\n",
              "      <th>mahesh</th>\n",
              "    </tr>\n",
              "  </thead>\n",
              "  <tbody>\n",
              "    <tr>\n",
              "      <th>0</th>\n",
              "      <td>1</td>\n",
              "      <td>0</td>\n",
              "      <td>0</td>\n",
              "    </tr>\n",
              "    <tr>\n",
              "      <th>1</th>\n",
              "      <td>0</td>\n",
              "      <td>0</td>\n",
              "      <td>1</td>\n",
              "    </tr>\n",
              "    <tr>\n",
              "      <th>2</th>\n",
              "      <td>0</td>\n",
              "      <td>1</td>\n",
              "      <td>0</td>\n",
              "    </tr>\n",
              "  </tbody>\n",
              "</table>\n",
              "</div>"
            ],
            "text/plain": [
              "   bala  chilakala  mahesh\n",
              "0     1          0       0\n",
              "1     0          0       1\n",
              "2     0          1       0"
            ]
          },
          "metadata": {
            "tags": []
          },
          "execution_count": 28
        }
      ]
    },
    {
      "cell_type": "markdown",
      "metadata": {
        "id": "0v14WHoizYi-"
      },
      "source": [
        "TFIDF"
      ]
    },
    {
      "cell_type": "code",
      "metadata": {
        "id": "9lROX_Hhnol0",
        "colab": {
          "base_uri": "https://localhost:8080/",
          "height": 138
        },
        "outputId": "97cd2ffb-7f36-4662-b25d-9078cf29158b"
      },
      "source": [
        "from sklearn.feature_extraction.text import TfidfVectorizer\n",
        "m=TfidfVectorizer()\n",
        "m.fit(a)\n",
        "m"
      ],
      "execution_count": null,
      "outputs": [
        {
          "output_type": "execute_result",
          "data": {
            "text/plain": [
              "TfidfVectorizer(analyzer='word', binary=False, decode_error='strict',\n",
              "                dtype=<class 'numpy.float64'>, encoding='utf-8',\n",
              "                input='content', lowercase=True, max_df=1.0, max_features=None,\n",
              "                min_df=1, ngram_range=(1, 1), norm='l2', preprocessor=None,\n",
              "                smooth_idf=True, stop_words=None, strip_accents=None,\n",
              "                sublinear_tf=False, token_pattern='(?u)\\\\b\\\\w\\\\w+\\\\b',\n",
              "                tokenizer=None, use_idf=True, vocabulary=None)"
            ]
          },
          "metadata": {
            "tags": []
          },
          "execution_count": 29
        }
      ]
    },
    {
      "cell_type": "code",
      "metadata": {
        "id": "z6f_aaq1oP7D",
        "colab": {
          "base_uri": "https://localhost:8080/",
          "height": 69
        },
        "outputId": "b1565ba0-bf89-4423-b2c8-7123d5342f03"
      },
      "source": [
        "n=m.fit_transform(a)\n",
        "n.toarray()"
      ],
      "execution_count": null,
      "outputs": [
        {
          "output_type": "execute_result",
          "data": {
            "text/plain": [
              "array([[1., 0., 0.],\n",
              "       [0., 0., 1.],\n",
              "       [0., 1., 0.]])"
            ]
          },
          "metadata": {
            "tags": []
          },
          "execution_count": 30
        }
      ]
    },
    {
      "cell_type": "code",
      "metadata": {
        "id": "qM1Y7yw3oZer",
        "colab": {
          "base_uri": "https://localhost:8080/",
          "height": 138
        },
        "outputId": "3bff523a-7567-475c-aea2-b0021441acfa"
      },
      "source": [
        "pd.DataFrame(n.toarray(),columns=m.get_feature_names())"
      ],
      "execution_count": null,
      "outputs": [
        {
          "output_type": "execute_result",
          "data": {
            "text/html": [
              "<div>\n",
              "<style scoped>\n",
              "    .dataframe tbody tr th:only-of-type {\n",
              "        vertical-align: middle;\n",
              "    }\n",
              "\n",
              "    .dataframe tbody tr th {\n",
              "        vertical-align: top;\n",
              "    }\n",
              "\n",
              "    .dataframe thead th {\n",
              "        text-align: right;\n",
              "    }\n",
              "</style>\n",
              "<table border=\"1\" class=\"dataframe\">\n",
              "  <thead>\n",
              "    <tr style=\"text-align: right;\">\n",
              "      <th></th>\n",
              "      <th>bala</th>\n",
              "      <th>chilakala</th>\n",
              "      <th>mahesh</th>\n",
              "    </tr>\n",
              "  </thead>\n",
              "  <tbody>\n",
              "    <tr>\n",
              "      <th>0</th>\n",
              "      <td>1.0</td>\n",
              "      <td>0.0</td>\n",
              "      <td>0.0</td>\n",
              "    </tr>\n",
              "    <tr>\n",
              "      <th>1</th>\n",
              "      <td>0.0</td>\n",
              "      <td>0.0</td>\n",
              "      <td>1.0</td>\n",
              "    </tr>\n",
              "    <tr>\n",
              "      <th>2</th>\n",
              "      <td>0.0</td>\n",
              "      <td>1.0</td>\n",
              "      <td>0.0</td>\n",
              "    </tr>\n",
              "  </tbody>\n",
              "</table>\n",
              "</div>"
            ],
            "text/plain": [
              "   bala  chilakala  mahesh\n",
              "0   1.0        0.0     0.0\n",
              "1   0.0        0.0     1.0\n",
              "2   0.0        1.0     0.0"
            ]
          },
          "metadata": {
            "tags": []
          },
          "execution_count": 31
        }
      ]
    },
    {
      "cell_type": "markdown",
      "metadata": {
        "id": "wHLV37U4zVC4"
      },
      "source": [
        "NLP"
      ]
    },
    {
      "cell_type": "code",
      "metadata": {
        "id": "U42Oi3I0o3hp"
      },
      "source": [
        "import os\n",
        "import nltk\n",
        "import nltk.corpus"
      ],
      "execution_count": null,
      "outputs": []
    },
    {
      "cell_type": "code",
      "metadata": {
        "id": "_-bNPfSZqH-H"
      },
      "source": [
        "a=\"it computes “relative frequency” that a word appears in a document compared to its frequency across all documents. It is more useful than “term frequency” for identifying “important” words in each document (high frequency in that document, low frequency in other documents\""
      ],
      "execution_count": null,
      "outputs": []
    },
    {
      "cell_type": "code",
      "metadata": {
        "id": "JZ0oTNZLqVQF",
        "colab": {
          "base_uri": "https://localhost:8080/",
          "height": 34
        },
        "outputId": "3de754a7-6700-4f7c-cfee-6e9e8402a6cd"
      },
      "source": [
        "type(a)"
      ],
      "execution_count": null,
      "outputs": [
        {
          "output_type": "execute_result",
          "data": {
            "text/plain": [
              "str"
            ]
          },
          "metadata": {
            "tags": []
          },
          "execution_count": 47
        }
      ]
    },
    {
      "cell_type": "markdown",
      "metadata": {
        "id": "EQClzVEFzPV2"
      },
      "source": [
        "Tokenization\n"
      ]
    },
    {
      "cell_type": "code",
      "metadata": {
        "id": "7kpJ4Kv9rbJ_",
        "colab": {
          "base_uri": "https://localhost:8080/",
          "height": 933
        },
        "outputId": "7d11a648-f75a-4477-b5b0-a92e57a516ff"
      },
      "source": [
        "nltk.download('punkt')\n",
        "from nltk.tokenize import word_tokenize\n",
        "b=word_tokenize(a)\n",
        "b"
      ],
      "execution_count": null,
      "outputs": [
        {
          "output_type": "stream",
          "text": [
            "[nltk_data] Downloading package punkt to /root/nltk_data...\n",
            "[nltk_data]   Unzipping tokenizers/punkt.zip.\n"
          ],
          "name": "stdout"
        },
        {
          "output_type": "execute_result",
          "data": {
            "text/plain": [
              "['it',\n",
              " 'computes',\n",
              " '“',\n",
              " 'relative',\n",
              " 'frequency',\n",
              " '”',\n",
              " 'that',\n",
              " 'a',\n",
              " 'word',\n",
              " 'appears',\n",
              " 'in',\n",
              " 'a',\n",
              " 'document',\n",
              " 'compared',\n",
              " 'to',\n",
              " 'its',\n",
              " 'frequency',\n",
              " 'across',\n",
              " 'all',\n",
              " 'documents',\n",
              " '.',\n",
              " 'It',\n",
              " 'is',\n",
              " 'more',\n",
              " 'useful',\n",
              " 'than',\n",
              " '“',\n",
              " 'term',\n",
              " 'frequency',\n",
              " '”',\n",
              " 'for',\n",
              " 'identifying',\n",
              " '“',\n",
              " 'important',\n",
              " '”',\n",
              " 'words',\n",
              " 'in',\n",
              " 'each',\n",
              " 'document',\n",
              " '(',\n",
              " 'high',\n",
              " 'frequency',\n",
              " 'in',\n",
              " 'that',\n",
              " 'document',\n",
              " ',',\n",
              " 'low',\n",
              " 'frequency',\n",
              " 'in',\n",
              " 'other',\n",
              " 'documents']"
            ]
          },
          "metadata": {
            "tags": []
          },
          "execution_count": 49
        }
      ]
    },
    {
      "cell_type": "code",
      "metadata": {
        "id": "T9Yh-BEUruSW",
        "colab": {
          "base_uri": "https://localhost:8080/",
          "height": 34
        },
        "outputId": "db84547f-2a2c-4db4-fa07-fb598ea747c7"
      },
      "source": [
        "len(b)"
      ],
      "execution_count": null,
      "outputs": [
        {
          "output_type": "execute_result",
          "data": {
            "text/plain": [
              "51"
            ]
          },
          "metadata": {
            "tags": []
          },
          "execution_count": 50
        }
      ]
    },
    {
      "cell_type": "code",
      "metadata": {
        "id": "MV5g4q29vuYt"
      },
      "source": [
        "from nltk.probability import FreqDist\n",
        "f=FreqDist()"
      ],
      "execution_count": null,
      "outputs": []
    },
    {
      "cell_type": "code",
      "metadata": {
        "id": "dGm9lV0Tv8Sb",
        "colab": {
          "base_uri": "https://localhost:8080/",
          "height": 484
        },
        "outputId": "777f58d8-d719-451b-e450-3cf82d81082b"
      },
      "source": [
        "for word in a:\n",
        "  f[word.lower()]+=1\n",
        "f"
      ],
      "execution_count": null,
      "outputs": [
        {
          "output_type": "execute_result",
          "data": {
            "text/plain": [
              "FreqDist({' ': 41,\n",
              "          '(': 1,\n",
              "          ',': 1,\n",
              "          '.': 1,\n",
              "          'a': 13,\n",
              "          'c': 14,\n",
              "          'd': 9,\n",
              "          'e': 26,\n",
              "          'f': 8,\n",
              "          'g': 2,\n",
              "          'h': 7,\n",
              "          'i': 14,\n",
              "          'l': 5,\n",
              "          'm': 10,\n",
              "          'n': 18,\n",
              "          'o': 16,\n",
              "          'p': 5,\n",
              "          'q': 5,\n",
              "          'r': 16,\n",
              "          's': 10,\n",
              "          't': 21,\n",
              "          'u': 13,\n",
              "          'v': 1,\n",
              "          'w': 3,\n",
              "          'y': 6,\n",
              "          '“': 3,\n",
              "          '”': 3})"
            ]
          },
          "metadata": {
            "tags": []
          },
          "execution_count": 87
        }
      ]
    },
    {
      "cell_type": "code",
      "metadata": {
        "id": "ZI1jDHz2wIs-",
        "colab": {
          "base_uri": "https://localhost:8080/",
          "height": 276
        },
        "outputId": "7db60130-eb6a-411f-d25c-1137d8176c67"
      },
      "source": [
        "t=f.most_common(15)\n",
        "t"
      ],
      "execution_count": null,
      "outputs": [
        {
          "output_type": "execute_result",
          "data": {
            "text/plain": [
              "[(' ', 41),\n",
              " ('e', 26),\n",
              " ('t', 21),\n",
              " ('n', 18),\n",
              " ('o', 16),\n",
              " ('r', 16),\n",
              " ('i', 14),\n",
              " ('c', 14),\n",
              " ('u', 13),\n",
              " ('a', 13),\n",
              " ('m', 10),\n",
              " ('s', 10),\n",
              " ('d', 9),\n",
              " ('f', 8),\n",
              " ('h', 7)]"
            ]
          },
          "metadata": {
            "tags": []
          },
          "execution_count": 54
        }
      ]
    },
    {
      "cell_type": "code",
      "metadata": {
        "id": "xch3QmFewW2Y",
        "colab": {
          "base_uri": "https://localhost:8080/",
          "height": 54
        },
        "outputId": "96619b3f-daa6-4089-c72f-c86393ea4b32"
      },
      "source": [
        "from nltk.tokenize import blankline_tokenize\n",
        "b=blankline_tokenize(a)\n",
        "b"
      ],
      "execution_count": null,
      "outputs": [
        {
          "output_type": "execute_result",
          "data": {
            "text/plain": [
              "['it computes “relative frequency” that a word appears in a document compared to its frequency across all documents. It is more useful than “term frequency” for identifying “important” words in each document (high frequency in that document, low frequency in other documents']"
            ]
          },
          "metadata": {
            "tags": []
          },
          "execution_count": 56
        }
      ]
    },
    {
      "cell_type": "code",
      "metadata": {
        "id": "Wa3RIfsFwqHH",
        "colab": {
          "base_uri": "https://localhost:8080/",
          "height": 34
        },
        "outputId": "7448c7b9-13c8-46b6-af17-d343f0bd2fc4"
      },
      "source": [
        "len(b)"
      ],
      "execution_count": null,
      "outputs": [
        {
          "output_type": "execute_result",
          "data": {
            "text/plain": [
              "1"
            ]
          },
          "metadata": {
            "tags": []
          },
          "execution_count": 57
        }
      ]
    },
    {
      "cell_type": "code",
      "metadata": {
        "id": "nVWyhaQ4wz_G"
      },
      "source": [
        "from nltk.util import bigrams,trigrams,ngrams"
      ],
      "execution_count": null,
      "outputs": []
    },
    {
      "cell_type": "code",
      "metadata": {
        "id": "NWJFR28ZxCPP",
        "colab": {
          "base_uri": "https://localhost:8080/",
          "height": 1000
        },
        "outputId": "04ced88b-e762-40c2-ed77-da9f824f468c"
      },
      "source": [
        "bi=list(nltk.bigrams(a))\n",
        "bi"
      ],
      "execution_count": null,
      "outputs": [
        {
          "output_type": "execute_result",
          "data": {
            "text/plain": [
              "[('i', 't'),\n",
              " ('t', ' '),\n",
              " (' ', 'c'),\n",
              " ('c', 'o'),\n",
              " ('o', 'm'),\n",
              " ('m', 'p'),\n",
              " ('p', 'u'),\n",
              " ('u', 't'),\n",
              " ('t', 'e'),\n",
              " ('e', 's'),\n",
              " ('s', ' '),\n",
              " (' ', '“'),\n",
              " ('“', 'r'),\n",
              " ('r', 'e'),\n",
              " ('e', 'l'),\n",
              " ('l', 'a'),\n",
              " ('a', 't'),\n",
              " ('t', 'i'),\n",
              " ('i', 'v'),\n",
              " ('v', 'e'),\n",
              " ('e', ' '),\n",
              " (' ', 'f'),\n",
              " ('f', 'r'),\n",
              " ('r', 'e'),\n",
              " ('e', 'q'),\n",
              " ('q', 'u'),\n",
              " ('u', 'e'),\n",
              " ('e', 'n'),\n",
              " ('n', 'c'),\n",
              " ('c', 'y'),\n",
              " ('y', '”'),\n",
              " ('”', ' '),\n",
              " (' ', 't'),\n",
              " ('t', 'h'),\n",
              " ('h', 'a'),\n",
              " ('a', 't'),\n",
              " ('t', ' '),\n",
              " (' ', 'a'),\n",
              " ('a', ' '),\n",
              " (' ', 'w'),\n",
              " ('w', 'o'),\n",
              " ('o', 'r'),\n",
              " ('r', 'd'),\n",
              " ('d', ' '),\n",
              " (' ', 'a'),\n",
              " ('a', 'p'),\n",
              " ('p', 'p'),\n",
              " ('p', 'e'),\n",
              " ('e', 'a'),\n",
              " ('a', 'r'),\n",
              " ('r', 's'),\n",
              " ('s', ' '),\n",
              " (' ', 'i'),\n",
              " ('i', 'n'),\n",
              " ('n', ' '),\n",
              " (' ', 'a'),\n",
              " ('a', ' '),\n",
              " (' ', 'd'),\n",
              " ('d', 'o'),\n",
              " ('o', 'c'),\n",
              " ('c', 'u'),\n",
              " ('u', 'm'),\n",
              " ('m', 'e'),\n",
              " ('e', 'n'),\n",
              " ('n', 't'),\n",
              " ('t', ' '),\n",
              " (' ', 'c'),\n",
              " ('c', 'o'),\n",
              " ('o', 'm'),\n",
              " ('m', 'p'),\n",
              " ('p', 'a'),\n",
              " ('a', 'r'),\n",
              " ('r', 'e'),\n",
              " ('e', 'd'),\n",
              " ('d', ' '),\n",
              " (' ', 't'),\n",
              " ('t', 'o'),\n",
              " ('o', ' '),\n",
              " (' ', 'i'),\n",
              " ('i', 't'),\n",
              " ('t', 's'),\n",
              " ('s', ' '),\n",
              " (' ', 'f'),\n",
              " ('f', 'r'),\n",
              " ('r', 'e'),\n",
              " ('e', 'q'),\n",
              " ('q', 'u'),\n",
              " ('u', 'e'),\n",
              " ('e', 'n'),\n",
              " ('n', 'c'),\n",
              " ('c', 'y'),\n",
              " ('y', ' '),\n",
              " (' ', 'a'),\n",
              " ('a', 'c'),\n",
              " ('c', 'r'),\n",
              " ('r', 'o'),\n",
              " ('o', 's'),\n",
              " ('s', 's'),\n",
              " ('s', ' '),\n",
              " (' ', 'a'),\n",
              " ('a', 'l'),\n",
              " ('l', 'l'),\n",
              " ('l', ' '),\n",
              " (' ', 'd'),\n",
              " ('d', 'o'),\n",
              " ('o', 'c'),\n",
              " ('c', 'u'),\n",
              " ('u', 'm'),\n",
              " ('m', 'e'),\n",
              " ('e', 'n'),\n",
              " ('n', 't'),\n",
              " ('t', 's'),\n",
              " ('s', '.'),\n",
              " ('.', ' '),\n",
              " (' ', 'I'),\n",
              " ('I', 't'),\n",
              " ('t', ' '),\n",
              " (' ', 'i'),\n",
              " ('i', 's'),\n",
              " ('s', ' '),\n",
              " (' ', 'm'),\n",
              " ('m', 'o'),\n",
              " ('o', 'r'),\n",
              " ('r', 'e'),\n",
              " ('e', ' '),\n",
              " (' ', 'u'),\n",
              " ('u', 's'),\n",
              " ('s', 'e'),\n",
              " ('e', 'f'),\n",
              " ('f', 'u'),\n",
              " ('u', 'l'),\n",
              " ('l', ' '),\n",
              " (' ', 't'),\n",
              " ('t', 'h'),\n",
              " ('h', 'a'),\n",
              " ('a', 'n'),\n",
              " ('n', ' '),\n",
              " (' ', '“'),\n",
              " ('“', 't'),\n",
              " ('t', 'e'),\n",
              " ('e', 'r'),\n",
              " ('r', 'm'),\n",
              " ('m', ' '),\n",
              " (' ', 'f'),\n",
              " ('f', 'r'),\n",
              " ('r', 'e'),\n",
              " ('e', 'q'),\n",
              " ('q', 'u'),\n",
              " ('u', 'e'),\n",
              " ('e', 'n'),\n",
              " ('n', 'c'),\n",
              " ('c', 'y'),\n",
              " ('y', '”'),\n",
              " ('”', ' '),\n",
              " (' ', 'f'),\n",
              " ('f', 'o'),\n",
              " ('o', 'r'),\n",
              " ('r', ' '),\n",
              " (' ', 'i'),\n",
              " ('i', 'd'),\n",
              " ('d', 'e'),\n",
              " ('e', 'n'),\n",
              " ('n', 't'),\n",
              " ('t', 'i'),\n",
              " ('i', 'f'),\n",
              " ('f', 'y'),\n",
              " ('y', 'i'),\n",
              " ('i', 'n'),\n",
              " ('n', 'g'),\n",
              " ('g', ' '),\n",
              " (' ', '“'),\n",
              " ('“', 'i'),\n",
              " ('i', 'm'),\n",
              " ('m', 'p'),\n",
              " ('p', 'o'),\n",
              " ('o', 'r'),\n",
              " ('r', 't'),\n",
              " ('t', 'a'),\n",
              " ('a', 'n'),\n",
              " ('n', 't'),\n",
              " ('t', '”'),\n",
              " ('”', ' '),\n",
              " (' ', 'w'),\n",
              " ('w', 'o'),\n",
              " ('o', 'r'),\n",
              " ('r', 'd'),\n",
              " ('d', 's'),\n",
              " ('s', ' '),\n",
              " (' ', 'i'),\n",
              " ('i', 'n'),\n",
              " ('n', ' '),\n",
              " (' ', 'e'),\n",
              " ('e', 'a'),\n",
              " ('a', 'c'),\n",
              " ('c', 'h'),\n",
              " ('h', ' '),\n",
              " (' ', 'd'),\n",
              " ('d', 'o'),\n",
              " ('o', 'c'),\n",
              " ('c', 'u'),\n",
              " ('u', 'm'),\n",
              " ('m', 'e'),\n",
              " ('e', 'n'),\n",
              " ('n', 't'),\n",
              " ('t', ' '),\n",
              " (' ', '('),\n",
              " ('(', 'h'),\n",
              " ('h', 'i'),\n",
              " ('i', 'g'),\n",
              " ('g', 'h'),\n",
              " ('h', ' '),\n",
              " (' ', 'f'),\n",
              " ('f', 'r'),\n",
              " ('r', 'e'),\n",
              " ('e', 'q'),\n",
              " ('q', 'u'),\n",
              " ('u', 'e'),\n",
              " ('e', 'n'),\n",
              " ('n', 'c'),\n",
              " ('c', 'y'),\n",
              " ('y', ' '),\n",
              " (' ', 'i'),\n",
              " ('i', 'n'),\n",
              " ('n', ' '),\n",
              " (' ', 't'),\n",
              " ('t', 'h'),\n",
              " ('h', 'a'),\n",
              " ('a', 't'),\n",
              " ('t', ' '),\n",
              " (' ', 'd'),\n",
              " ('d', 'o'),\n",
              " ('o', 'c'),\n",
              " ('c', 'u'),\n",
              " ('u', 'm'),\n",
              " ('m', 'e'),\n",
              " ('e', 'n'),\n",
              " ('n', 't'),\n",
              " ('t', ','),\n",
              " (',', ' '),\n",
              " (' ', 'l'),\n",
              " ('l', 'o'),\n",
              " ('o', 'w'),\n",
              " ('w', ' '),\n",
              " (' ', 'f'),\n",
              " ('f', 'r'),\n",
              " ('r', 'e'),\n",
              " ('e', 'q'),\n",
              " ('q', 'u'),\n",
              " ('u', 'e'),\n",
              " ('e', 'n'),\n",
              " ('n', 'c'),\n",
              " ('c', 'y'),\n",
              " ('y', ' '),\n",
              " (' ', 'i'),\n",
              " ('i', 'n'),\n",
              " ('n', ' '),\n",
              " (' ', 'o'),\n",
              " ('o', 't'),\n",
              " ('t', 'h'),\n",
              " ('h', 'e'),\n",
              " ('e', 'r'),\n",
              " ('r', ' '),\n",
              " (' ', 'd'),\n",
              " ('d', 'o'),\n",
              " ('o', 'c'),\n",
              " ('c', 'u'),\n",
              " ('u', 'm'),\n",
              " ('m', 'e'),\n",
              " ('e', 'n'),\n",
              " ('n', 't'),\n",
              " ('t', 's')]"
            ]
          },
          "metadata": {
            "tags": []
          },
          "execution_count": 59
        }
      ]
    },
    {
      "cell_type": "code",
      "metadata": {
        "id": "2UKosK6RxMxL",
        "colab": {
          "base_uri": "https://localhost:8080/",
          "height": 1000
        },
        "outputId": "07990768-c193-4f23-af1b-615c4932a689"
      },
      "source": [
        "tri=list(nltk.trigrams(a))\n",
        "tri"
      ],
      "execution_count": null,
      "outputs": [
        {
          "output_type": "execute_result",
          "data": {
            "text/plain": [
              "[('i', 't', ' '),\n",
              " ('t', ' ', 'c'),\n",
              " (' ', 'c', 'o'),\n",
              " ('c', 'o', 'm'),\n",
              " ('o', 'm', 'p'),\n",
              " ('m', 'p', 'u'),\n",
              " ('p', 'u', 't'),\n",
              " ('u', 't', 'e'),\n",
              " ('t', 'e', 's'),\n",
              " ('e', 's', ' '),\n",
              " ('s', ' ', '“'),\n",
              " (' ', '“', 'r'),\n",
              " ('“', 'r', 'e'),\n",
              " ('r', 'e', 'l'),\n",
              " ('e', 'l', 'a'),\n",
              " ('l', 'a', 't'),\n",
              " ('a', 't', 'i'),\n",
              " ('t', 'i', 'v'),\n",
              " ('i', 'v', 'e'),\n",
              " ('v', 'e', ' '),\n",
              " ('e', ' ', 'f'),\n",
              " (' ', 'f', 'r'),\n",
              " ('f', 'r', 'e'),\n",
              " ('r', 'e', 'q'),\n",
              " ('e', 'q', 'u'),\n",
              " ('q', 'u', 'e'),\n",
              " ('u', 'e', 'n'),\n",
              " ('e', 'n', 'c'),\n",
              " ('n', 'c', 'y'),\n",
              " ('c', 'y', '”'),\n",
              " ('y', '”', ' '),\n",
              " ('”', ' ', 't'),\n",
              " (' ', 't', 'h'),\n",
              " ('t', 'h', 'a'),\n",
              " ('h', 'a', 't'),\n",
              " ('a', 't', ' '),\n",
              " ('t', ' ', 'a'),\n",
              " (' ', 'a', ' '),\n",
              " ('a', ' ', 'w'),\n",
              " (' ', 'w', 'o'),\n",
              " ('w', 'o', 'r'),\n",
              " ('o', 'r', 'd'),\n",
              " ('r', 'd', ' '),\n",
              " ('d', ' ', 'a'),\n",
              " (' ', 'a', 'p'),\n",
              " ('a', 'p', 'p'),\n",
              " ('p', 'p', 'e'),\n",
              " ('p', 'e', 'a'),\n",
              " ('e', 'a', 'r'),\n",
              " ('a', 'r', 's'),\n",
              " ('r', 's', ' '),\n",
              " ('s', ' ', 'i'),\n",
              " (' ', 'i', 'n'),\n",
              " ('i', 'n', ' '),\n",
              " ('n', ' ', 'a'),\n",
              " (' ', 'a', ' '),\n",
              " ('a', ' ', 'd'),\n",
              " (' ', 'd', 'o'),\n",
              " ('d', 'o', 'c'),\n",
              " ('o', 'c', 'u'),\n",
              " ('c', 'u', 'm'),\n",
              " ('u', 'm', 'e'),\n",
              " ('m', 'e', 'n'),\n",
              " ('e', 'n', 't'),\n",
              " ('n', 't', ' '),\n",
              " ('t', ' ', 'c'),\n",
              " (' ', 'c', 'o'),\n",
              " ('c', 'o', 'm'),\n",
              " ('o', 'm', 'p'),\n",
              " ('m', 'p', 'a'),\n",
              " ('p', 'a', 'r'),\n",
              " ('a', 'r', 'e'),\n",
              " ('r', 'e', 'd'),\n",
              " ('e', 'd', ' '),\n",
              " ('d', ' ', 't'),\n",
              " (' ', 't', 'o'),\n",
              " ('t', 'o', ' '),\n",
              " ('o', ' ', 'i'),\n",
              " (' ', 'i', 't'),\n",
              " ('i', 't', 's'),\n",
              " ('t', 's', ' '),\n",
              " ('s', ' ', 'f'),\n",
              " (' ', 'f', 'r'),\n",
              " ('f', 'r', 'e'),\n",
              " ('r', 'e', 'q'),\n",
              " ('e', 'q', 'u'),\n",
              " ('q', 'u', 'e'),\n",
              " ('u', 'e', 'n'),\n",
              " ('e', 'n', 'c'),\n",
              " ('n', 'c', 'y'),\n",
              " ('c', 'y', ' '),\n",
              " ('y', ' ', 'a'),\n",
              " (' ', 'a', 'c'),\n",
              " ('a', 'c', 'r'),\n",
              " ('c', 'r', 'o'),\n",
              " ('r', 'o', 's'),\n",
              " ('o', 's', 's'),\n",
              " ('s', 's', ' '),\n",
              " ('s', ' ', 'a'),\n",
              " (' ', 'a', 'l'),\n",
              " ('a', 'l', 'l'),\n",
              " ('l', 'l', ' '),\n",
              " ('l', ' ', 'd'),\n",
              " (' ', 'd', 'o'),\n",
              " ('d', 'o', 'c'),\n",
              " ('o', 'c', 'u'),\n",
              " ('c', 'u', 'm'),\n",
              " ('u', 'm', 'e'),\n",
              " ('m', 'e', 'n'),\n",
              " ('e', 'n', 't'),\n",
              " ('n', 't', 's'),\n",
              " ('t', 's', '.'),\n",
              " ('s', '.', ' '),\n",
              " ('.', ' ', 'I'),\n",
              " (' ', 'I', 't'),\n",
              " ('I', 't', ' '),\n",
              " ('t', ' ', 'i'),\n",
              " (' ', 'i', 's'),\n",
              " ('i', 's', ' '),\n",
              " ('s', ' ', 'm'),\n",
              " (' ', 'm', 'o'),\n",
              " ('m', 'o', 'r'),\n",
              " ('o', 'r', 'e'),\n",
              " ('r', 'e', ' '),\n",
              " ('e', ' ', 'u'),\n",
              " (' ', 'u', 's'),\n",
              " ('u', 's', 'e'),\n",
              " ('s', 'e', 'f'),\n",
              " ('e', 'f', 'u'),\n",
              " ('f', 'u', 'l'),\n",
              " ('u', 'l', ' '),\n",
              " ('l', ' ', 't'),\n",
              " (' ', 't', 'h'),\n",
              " ('t', 'h', 'a'),\n",
              " ('h', 'a', 'n'),\n",
              " ('a', 'n', ' '),\n",
              " ('n', ' ', '“'),\n",
              " (' ', '“', 't'),\n",
              " ('“', 't', 'e'),\n",
              " ('t', 'e', 'r'),\n",
              " ('e', 'r', 'm'),\n",
              " ('r', 'm', ' '),\n",
              " ('m', ' ', 'f'),\n",
              " (' ', 'f', 'r'),\n",
              " ('f', 'r', 'e'),\n",
              " ('r', 'e', 'q'),\n",
              " ('e', 'q', 'u'),\n",
              " ('q', 'u', 'e'),\n",
              " ('u', 'e', 'n'),\n",
              " ('e', 'n', 'c'),\n",
              " ('n', 'c', 'y'),\n",
              " ('c', 'y', '”'),\n",
              " ('y', '”', ' '),\n",
              " ('”', ' ', 'f'),\n",
              " (' ', 'f', 'o'),\n",
              " ('f', 'o', 'r'),\n",
              " ('o', 'r', ' '),\n",
              " ('r', ' ', 'i'),\n",
              " (' ', 'i', 'd'),\n",
              " ('i', 'd', 'e'),\n",
              " ('d', 'e', 'n'),\n",
              " ('e', 'n', 't'),\n",
              " ('n', 't', 'i'),\n",
              " ('t', 'i', 'f'),\n",
              " ('i', 'f', 'y'),\n",
              " ('f', 'y', 'i'),\n",
              " ('y', 'i', 'n'),\n",
              " ('i', 'n', 'g'),\n",
              " ('n', 'g', ' '),\n",
              " ('g', ' ', '“'),\n",
              " (' ', '“', 'i'),\n",
              " ('“', 'i', 'm'),\n",
              " ('i', 'm', 'p'),\n",
              " ('m', 'p', 'o'),\n",
              " ('p', 'o', 'r'),\n",
              " ('o', 'r', 't'),\n",
              " ('r', 't', 'a'),\n",
              " ('t', 'a', 'n'),\n",
              " ('a', 'n', 't'),\n",
              " ('n', 't', '”'),\n",
              " ('t', '”', ' '),\n",
              " ('”', ' ', 'w'),\n",
              " (' ', 'w', 'o'),\n",
              " ('w', 'o', 'r'),\n",
              " ('o', 'r', 'd'),\n",
              " ('r', 'd', 's'),\n",
              " ('d', 's', ' '),\n",
              " ('s', ' ', 'i'),\n",
              " (' ', 'i', 'n'),\n",
              " ('i', 'n', ' '),\n",
              " ('n', ' ', 'e'),\n",
              " (' ', 'e', 'a'),\n",
              " ('e', 'a', 'c'),\n",
              " ('a', 'c', 'h'),\n",
              " ('c', 'h', ' '),\n",
              " ('h', ' ', 'd'),\n",
              " (' ', 'd', 'o'),\n",
              " ('d', 'o', 'c'),\n",
              " ('o', 'c', 'u'),\n",
              " ('c', 'u', 'm'),\n",
              " ('u', 'm', 'e'),\n",
              " ('m', 'e', 'n'),\n",
              " ('e', 'n', 't'),\n",
              " ('n', 't', ' '),\n",
              " ('t', ' ', '('),\n",
              " (' ', '(', 'h'),\n",
              " ('(', 'h', 'i'),\n",
              " ('h', 'i', 'g'),\n",
              " ('i', 'g', 'h'),\n",
              " ('g', 'h', ' '),\n",
              " ('h', ' ', 'f'),\n",
              " (' ', 'f', 'r'),\n",
              " ('f', 'r', 'e'),\n",
              " ('r', 'e', 'q'),\n",
              " ('e', 'q', 'u'),\n",
              " ('q', 'u', 'e'),\n",
              " ('u', 'e', 'n'),\n",
              " ('e', 'n', 'c'),\n",
              " ('n', 'c', 'y'),\n",
              " ('c', 'y', ' '),\n",
              " ('y', ' ', 'i'),\n",
              " (' ', 'i', 'n'),\n",
              " ('i', 'n', ' '),\n",
              " ('n', ' ', 't'),\n",
              " (' ', 't', 'h'),\n",
              " ('t', 'h', 'a'),\n",
              " ('h', 'a', 't'),\n",
              " ('a', 't', ' '),\n",
              " ('t', ' ', 'd'),\n",
              " (' ', 'd', 'o'),\n",
              " ('d', 'o', 'c'),\n",
              " ('o', 'c', 'u'),\n",
              " ('c', 'u', 'm'),\n",
              " ('u', 'm', 'e'),\n",
              " ('m', 'e', 'n'),\n",
              " ('e', 'n', 't'),\n",
              " ('n', 't', ','),\n",
              " ('t', ',', ' '),\n",
              " (',', ' ', 'l'),\n",
              " (' ', 'l', 'o'),\n",
              " ('l', 'o', 'w'),\n",
              " ('o', 'w', ' '),\n",
              " ('w', ' ', 'f'),\n",
              " (' ', 'f', 'r'),\n",
              " ('f', 'r', 'e'),\n",
              " ('r', 'e', 'q'),\n",
              " ('e', 'q', 'u'),\n",
              " ('q', 'u', 'e'),\n",
              " ('u', 'e', 'n'),\n",
              " ('e', 'n', 'c'),\n",
              " ('n', 'c', 'y'),\n",
              " ('c', 'y', ' '),\n",
              " ('y', ' ', 'i'),\n",
              " (' ', 'i', 'n'),\n",
              " ('i', 'n', ' '),\n",
              " ('n', ' ', 'o'),\n",
              " (' ', 'o', 't'),\n",
              " ('o', 't', 'h'),\n",
              " ('t', 'h', 'e'),\n",
              " ('h', 'e', 'r'),\n",
              " ('e', 'r', ' '),\n",
              " ('r', ' ', 'd'),\n",
              " (' ', 'd', 'o'),\n",
              " ('d', 'o', 'c'),\n",
              " ('o', 'c', 'u'),\n",
              " ('c', 'u', 'm'),\n",
              " ('u', 'm', 'e'),\n",
              " ('m', 'e', 'n'),\n",
              " ('e', 'n', 't'),\n",
              " ('n', 't', 's')]"
            ]
          },
          "metadata": {
            "tags": []
          },
          "execution_count": 60
        }
      ]
    },
    {
      "cell_type": "code",
      "metadata": {
        "id": "LNCT6XP3xV9e",
        "colab": {
          "base_uri": "https://localhost:8080/",
          "height": 1000
        },
        "outputId": "b3fcf831-6ab3-4211-cc95-c39304cac526"
      },
      "source": [
        "ng=list(nltk.ngrams(a,8))\n",
        "ng"
      ],
      "execution_count": null,
      "outputs": [
        {
          "output_type": "execute_result",
          "data": {
            "text/plain": [
              "[('i', 't', ' ', 'c', 'o', 'm', 'p', 'u'),\n",
              " ('t', ' ', 'c', 'o', 'm', 'p', 'u', 't'),\n",
              " (' ', 'c', 'o', 'm', 'p', 'u', 't', 'e'),\n",
              " ('c', 'o', 'm', 'p', 'u', 't', 'e', 's'),\n",
              " ('o', 'm', 'p', 'u', 't', 'e', 's', ' '),\n",
              " ('m', 'p', 'u', 't', 'e', 's', ' ', '“'),\n",
              " ('p', 'u', 't', 'e', 's', ' ', '“', 'r'),\n",
              " ('u', 't', 'e', 's', ' ', '“', 'r', 'e'),\n",
              " ('t', 'e', 's', ' ', '“', 'r', 'e', 'l'),\n",
              " ('e', 's', ' ', '“', 'r', 'e', 'l', 'a'),\n",
              " ('s', ' ', '“', 'r', 'e', 'l', 'a', 't'),\n",
              " (' ', '“', 'r', 'e', 'l', 'a', 't', 'i'),\n",
              " ('“', 'r', 'e', 'l', 'a', 't', 'i', 'v'),\n",
              " ('r', 'e', 'l', 'a', 't', 'i', 'v', 'e'),\n",
              " ('e', 'l', 'a', 't', 'i', 'v', 'e', ' '),\n",
              " ('l', 'a', 't', 'i', 'v', 'e', ' ', 'f'),\n",
              " ('a', 't', 'i', 'v', 'e', ' ', 'f', 'r'),\n",
              " ('t', 'i', 'v', 'e', ' ', 'f', 'r', 'e'),\n",
              " ('i', 'v', 'e', ' ', 'f', 'r', 'e', 'q'),\n",
              " ('v', 'e', ' ', 'f', 'r', 'e', 'q', 'u'),\n",
              " ('e', ' ', 'f', 'r', 'e', 'q', 'u', 'e'),\n",
              " (' ', 'f', 'r', 'e', 'q', 'u', 'e', 'n'),\n",
              " ('f', 'r', 'e', 'q', 'u', 'e', 'n', 'c'),\n",
              " ('r', 'e', 'q', 'u', 'e', 'n', 'c', 'y'),\n",
              " ('e', 'q', 'u', 'e', 'n', 'c', 'y', '”'),\n",
              " ('q', 'u', 'e', 'n', 'c', 'y', '”', ' '),\n",
              " ('u', 'e', 'n', 'c', 'y', '”', ' ', 't'),\n",
              " ('e', 'n', 'c', 'y', '”', ' ', 't', 'h'),\n",
              " ('n', 'c', 'y', '”', ' ', 't', 'h', 'a'),\n",
              " ('c', 'y', '”', ' ', 't', 'h', 'a', 't'),\n",
              " ('y', '”', ' ', 't', 'h', 'a', 't', ' '),\n",
              " ('”', ' ', 't', 'h', 'a', 't', ' ', 'a'),\n",
              " (' ', 't', 'h', 'a', 't', ' ', 'a', ' '),\n",
              " ('t', 'h', 'a', 't', ' ', 'a', ' ', 'w'),\n",
              " ('h', 'a', 't', ' ', 'a', ' ', 'w', 'o'),\n",
              " ('a', 't', ' ', 'a', ' ', 'w', 'o', 'r'),\n",
              " ('t', ' ', 'a', ' ', 'w', 'o', 'r', 'd'),\n",
              " (' ', 'a', ' ', 'w', 'o', 'r', 'd', ' '),\n",
              " ('a', ' ', 'w', 'o', 'r', 'd', ' ', 'a'),\n",
              " (' ', 'w', 'o', 'r', 'd', ' ', 'a', 'p'),\n",
              " ('w', 'o', 'r', 'd', ' ', 'a', 'p', 'p'),\n",
              " ('o', 'r', 'd', ' ', 'a', 'p', 'p', 'e'),\n",
              " ('r', 'd', ' ', 'a', 'p', 'p', 'e', 'a'),\n",
              " ('d', ' ', 'a', 'p', 'p', 'e', 'a', 'r'),\n",
              " (' ', 'a', 'p', 'p', 'e', 'a', 'r', 's'),\n",
              " ('a', 'p', 'p', 'e', 'a', 'r', 's', ' '),\n",
              " ('p', 'p', 'e', 'a', 'r', 's', ' ', 'i'),\n",
              " ('p', 'e', 'a', 'r', 's', ' ', 'i', 'n'),\n",
              " ('e', 'a', 'r', 's', ' ', 'i', 'n', ' '),\n",
              " ('a', 'r', 's', ' ', 'i', 'n', ' ', 'a'),\n",
              " ('r', 's', ' ', 'i', 'n', ' ', 'a', ' '),\n",
              " ('s', ' ', 'i', 'n', ' ', 'a', ' ', 'd'),\n",
              " (' ', 'i', 'n', ' ', 'a', ' ', 'd', 'o'),\n",
              " ('i', 'n', ' ', 'a', ' ', 'd', 'o', 'c'),\n",
              " ('n', ' ', 'a', ' ', 'd', 'o', 'c', 'u'),\n",
              " (' ', 'a', ' ', 'd', 'o', 'c', 'u', 'm'),\n",
              " ('a', ' ', 'd', 'o', 'c', 'u', 'm', 'e'),\n",
              " (' ', 'd', 'o', 'c', 'u', 'm', 'e', 'n'),\n",
              " ('d', 'o', 'c', 'u', 'm', 'e', 'n', 't'),\n",
              " ('o', 'c', 'u', 'm', 'e', 'n', 't', ' '),\n",
              " ('c', 'u', 'm', 'e', 'n', 't', ' ', 'c'),\n",
              " ('u', 'm', 'e', 'n', 't', ' ', 'c', 'o'),\n",
              " ('m', 'e', 'n', 't', ' ', 'c', 'o', 'm'),\n",
              " ('e', 'n', 't', ' ', 'c', 'o', 'm', 'p'),\n",
              " ('n', 't', ' ', 'c', 'o', 'm', 'p', 'a'),\n",
              " ('t', ' ', 'c', 'o', 'm', 'p', 'a', 'r'),\n",
              " (' ', 'c', 'o', 'm', 'p', 'a', 'r', 'e'),\n",
              " ('c', 'o', 'm', 'p', 'a', 'r', 'e', 'd'),\n",
              " ('o', 'm', 'p', 'a', 'r', 'e', 'd', ' '),\n",
              " ('m', 'p', 'a', 'r', 'e', 'd', ' ', 't'),\n",
              " ('p', 'a', 'r', 'e', 'd', ' ', 't', 'o'),\n",
              " ('a', 'r', 'e', 'd', ' ', 't', 'o', ' '),\n",
              " ('r', 'e', 'd', ' ', 't', 'o', ' ', 'i'),\n",
              " ('e', 'd', ' ', 't', 'o', ' ', 'i', 't'),\n",
              " ('d', ' ', 't', 'o', ' ', 'i', 't', 's'),\n",
              " (' ', 't', 'o', ' ', 'i', 't', 's', ' '),\n",
              " ('t', 'o', ' ', 'i', 't', 's', ' ', 'f'),\n",
              " ('o', ' ', 'i', 't', 's', ' ', 'f', 'r'),\n",
              " (' ', 'i', 't', 's', ' ', 'f', 'r', 'e'),\n",
              " ('i', 't', 's', ' ', 'f', 'r', 'e', 'q'),\n",
              " ('t', 's', ' ', 'f', 'r', 'e', 'q', 'u'),\n",
              " ('s', ' ', 'f', 'r', 'e', 'q', 'u', 'e'),\n",
              " (' ', 'f', 'r', 'e', 'q', 'u', 'e', 'n'),\n",
              " ('f', 'r', 'e', 'q', 'u', 'e', 'n', 'c'),\n",
              " ('r', 'e', 'q', 'u', 'e', 'n', 'c', 'y'),\n",
              " ('e', 'q', 'u', 'e', 'n', 'c', 'y', ' '),\n",
              " ('q', 'u', 'e', 'n', 'c', 'y', ' ', 'a'),\n",
              " ('u', 'e', 'n', 'c', 'y', ' ', 'a', 'c'),\n",
              " ('e', 'n', 'c', 'y', ' ', 'a', 'c', 'r'),\n",
              " ('n', 'c', 'y', ' ', 'a', 'c', 'r', 'o'),\n",
              " ('c', 'y', ' ', 'a', 'c', 'r', 'o', 's'),\n",
              " ('y', ' ', 'a', 'c', 'r', 'o', 's', 's'),\n",
              " (' ', 'a', 'c', 'r', 'o', 's', 's', ' '),\n",
              " ('a', 'c', 'r', 'o', 's', 's', ' ', 'a'),\n",
              " ('c', 'r', 'o', 's', 's', ' ', 'a', 'l'),\n",
              " ('r', 'o', 's', 's', ' ', 'a', 'l', 'l'),\n",
              " ('o', 's', 's', ' ', 'a', 'l', 'l', ' '),\n",
              " ('s', 's', ' ', 'a', 'l', 'l', ' ', 'd'),\n",
              " ('s', ' ', 'a', 'l', 'l', ' ', 'd', 'o'),\n",
              " (' ', 'a', 'l', 'l', ' ', 'd', 'o', 'c'),\n",
              " ('a', 'l', 'l', ' ', 'd', 'o', 'c', 'u'),\n",
              " ('l', 'l', ' ', 'd', 'o', 'c', 'u', 'm'),\n",
              " ('l', ' ', 'd', 'o', 'c', 'u', 'm', 'e'),\n",
              " (' ', 'd', 'o', 'c', 'u', 'm', 'e', 'n'),\n",
              " ('d', 'o', 'c', 'u', 'm', 'e', 'n', 't'),\n",
              " ('o', 'c', 'u', 'm', 'e', 'n', 't', 's'),\n",
              " ('c', 'u', 'm', 'e', 'n', 't', 's', '.'),\n",
              " ('u', 'm', 'e', 'n', 't', 's', '.', ' '),\n",
              " ('m', 'e', 'n', 't', 's', '.', ' ', 'I'),\n",
              " ('e', 'n', 't', 's', '.', ' ', 'I', 't'),\n",
              " ('n', 't', 's', '.', ' ', 'I', 't', ' '),\n",
              " ('t', 's', '.', ' ', 'I', 't', ' ', 'i'),\n",
              " ('s', '.', ' ', 'I', 't', ' ', 'i', 's'),\n",
              " ('.', ' ', 'I', 't', ' ', 'i', 's', ' '),\n",
              " (' ', 'I', 't', ' ', 'i', 's', ' ', 'm'),\n",
              " ('I', 't', ' ', 'i', 's', ' ', 'm', 'o'),\n",
              " ('t', ' ', 'i', 's', ' ', 'm', 'o', 'r'),\n",
              " (' ', 'i', 's', ' ', 'm', 'o', 'r', 'e'),\n",
              " ('i', 's', ' ', 'm', 'o', 'r', 'e', ' '),\n",
              " ('s', ' ', 'm', 'o', 'r', 'e', ' ', 'u'),\n",
              " (' ', 'm', 'o', 'r', 'e', ' ', 'u', 's'),\n",
              " ('m', 'o', 'r', 'e', ' ', 'u', 's', 'e'),\n",
              " ('o', 'r', 'e', ' ', 'u', 's', 'e', 'f'),\n",
              " ('r', 'e', ' ', 'u', 's', 'e', 'f', 'u'),\n",
              " ('e', ' ', 'u', 's', 'e', 'f', 'u', 'l'),\n",
              " (' ', 'u', 's', 'e', 'f', 'u', 'l', ' '),\n",
              " ('u', 's', 'e', 'f', 'u', 'l', ' ', 't'),\n",
              " ('s', 'e', 'f', 'u', 'l', ' ', 't', 'h'),\n",
              " ('e', 'f', 'u', 'l', ' ', 't', 'h', 'a'),\n",
              " ('f', 'u', 'l', ' ', 't', 'h', 'a', 'n'),\n",
              " ('u', 'l', ' ', 't', 'h', 'a', 'n', ' '),\n",
              " ('l', ' ', 't', 'h', 'a', 'n', ' ', '“'),\n",
              " (' ', 't', 'h', 'a', 'n', ' ', '“', 't'),\n",
              " ('t', 'h', 'a', 'n', ' ', '“', 't', 'e'),\n",
              " ('h', 'a', 'n', ' ', '“', 't', 'e', 'r'),\n",
              " ('a', 'n', ' ', '“', 't', 'e', 'r', 'm'),\n",
              " ('n', ' ', '“', 't', 'e', 'r', 'm', ' '),\n",
              " (' ', '“', 't', 'e', 'r', 'm', ' ', 'f'),\n",
              " ('“', 't', 'e', 'r', 'm', ' ', 'f', 'r'),\n",
              " ('t', 'e', 'r', 'm', ' ', 'f', 'r', 'e'),\n",
              " ('e', 'r', 'm', ' ', 'f', 'r', 'e', 'q'),\n",
              " ('r', 'm', ' ', 'f', 'r', 'e', 'q', 'u'),\n",
              " ('m', ' ', 'f', 'r', 'e', 'q', 'u', 'e'),\n",
              " (' ', 'f', 'r', 'e', 'q', 'u', 'e', 'n'),\n",
              " ('f', 'r', 'e', 'q', 'u', 'e', 'n', 'c'),\n",
              " ('r', 'e', 'q', 'u', 'e', 'n', 'c', 'y'),\n",
              " ('e', 'q', 'u', 'e', 'n', 'c', 'y', '”'),\n",
              " ('q', 'u', 'e', 'n', 'c', 'y', '”', ' '),\n",
              " ('u', 'e', 'n', 'c', 'y', '”', ' ', 'f'),\n",
              " ('e', 'n', 'c', 'y', '”', ' ', 'f', 'o'),\n",
              " ('n', 'c', 'y', '”', ' ', 'f', 'o', 'r'),\n",
              " ('c', 'y', '”', ' ', 'f', 'o', 'r', ' '),\n",
              " ('y', '”', ' ', 'f', 'o', 'r', ' ', 'i'),\n",
              " ('”', ' ', 'f', 'o', 'r', ' ', 'i', 'd'),\n",
              " (' ', 'f', 'o', 'r', ' ', 'i', 'd', 'e'),\n",
              " ('f', 'o', 'r', ' ', 'i', 'd', 'e', 'n'),\n",
              " ('o', 'r', ' ', 'i', 'd', 'e', 'n', 't'),\n",
              " ('r', ' ', 'i', 'd', 'e', 'n', 't', 'i'),\n",
              " (' ', 'i', 'd', 'e', 'n', 't', 'i', 'f'),\n",
              " ('i', 'd', 'e', 'n', 't', 'i', 'f', 'y'),\n",
              " ('d', 'e', 'n', 't', 'i', 'f', 'y', 'i'),\n",
              " ('e', 'n', 't', 'i', 'f', 'y', 'i', 'n'),\n",
              " ('n', 't', 'i', 'f', 'y', 'i', 'n', 'g'),\n",
              " ('t', 'i', 'f', 'y', 'i', 'n', 'g', ' '),\n",
              " ('i', 'f', 'y', 'i', 'n', 'g', ' ', '“'),\n",
              " ('f', 'y', 'i', 'n', 'g', ' ', '“', 'i'),\n",
              " ('y', 'i', 'n', 'g', ' ', '“', 'i', 'm'),\n",
              " ('i', 'n', 'g', ' ', '“', 'i', 'm', 'p'),\n",
              " ('n', 'g', ' ', '“', 'i', 'm', 'p', 'o'),\n",
              " ('g', ' ', '“', 'i', 'm', 'p', 'o', 'r'),\n",
              " (' ', '“', 'i', 'm', 'p', 'o', 'r', 't'),\n",
              " ('“', 'i', 'm', 'p', 'o', 'r', 't', 'a'),\n",
              " ('i', 'm', 'p', 'o', 'r', 't', 'a', 'n'),\n",
              " ('m', 'p', 'o', 'r', 't', 'a', 'n', 't'),\n",
              " ('p', 'o', 'r', 't', 'a', 'n', 't', '”'),\n",
              " ('o', 'r', 't', 'a', 'n', 't', '”', ' '),\n",
              " ('r', 't', 'a', 'n', 't', '”', ' ', 'w'),\n",
              " ('t', 'a', 'n', 't', '”', ' ', 'w', 'o'),\n",
              " ('a', 'n', 't', '”', ' ', 'w', 'o', 'r'),\n",
              " ('n', 't', '”', ' ', 'w', 'o', 'r', 'd'),\n",
              " ('t', '”', ' ', 'w', 'o', 'r', 'd', 's'),\n",
              " ('”', ' ', 'w', 'o', 'r', 'd', 's', ' '),\n",
              " (' ', 'w', 'o', 'r', 'd', 's', ' ', 'i'),\n",
              " ('w', 'o', 'r', 'd', 's', ' ', 'i', 'n'),\n",
              " ('o', 'r', 'd', 's', ' ', 'i', 'n', ' '),\n",
              " ('r', 'd', 's', ' ', 'i', 'n', ' ', 'e'),\n",
              " ('d', 's', ' ', 'i', 'n', ' ', 'e', 'a'),\n",
              " ('s', ' ', 'i', 'n', ' ', 'e', 'a', 'c'),\n",
              " (' ', 'i', 'n', ' ', 'e', 'a', 'c', 'h'),\n",
              " ('i', 'n', ' ', 'e', 'a', 'c', 'h', ' '),\n",
              " ('n', ' ', 'e', 'a', 'c', 'h', ' ', 'd'),\n",
              " (' ', 'e', 'a', 'c', 'h', ' ', 'd', 'o'),\n",
              " ('e', 'a', 'c', 'h', ' ', 'd', 'o', 'c'),\n",
              " ('a', 'c', 'h', ' ', 'd', 'o', 'c', 'u'),\n",
              " ('c', 'h', ' ', 'd', 'o', 'c', 'u', 'm'),\n",
              " ('h', ' ', 'd', 'o', 'c', 'u', 'm', 'e'),\n",
              " (' ', 'd', 'o', 'c', 'u', 'm', 'e', 'n'),\n",
              " ('d', 'o', 'c', 'u', 'm', 'e', 'n', 't'),\n",
              " ('o', 'c', 'u', 'm', 'e', 'n', 't', ' '),\n",
              " ('c', 'u', 'm', 'e', 'n', 't', ' ', '('),\n",
              " ('u', 'm', 'e', 'n', 't', ' ', '(', 'h'),\n",
              " ('m', 'e', 'n', 't', ' ', '(', 'h', 'i'),\n",
              " ('e', 'n', 't', ' ', '(', 'h', 'i', 'g'),\n",
              " ('n', 't', ' ', '(', 'h', 'i', 'g', 'h'),\n",
              " ('t', ' ', '(', 'h', 'i', 'g', 'h', ' '),\n",
              " (' ', '(', 'h', 'i', 'g', 'h', ' ', 'f'),\n",
              " ('(', 'h', 'i', 'g', 'h', ' ', 'f', 'r'),\n",
              " ('h', 'i', 'g', 'h', ' ', 'f', 'r', 'e'),\n",
              " ('i', 'g', 'h', ' ', 'f', 'r', 'e', 'q'),\n",
              " ('g', 'h', ' ', 'f', 'r', 'e', 'q', 'u'),\n",
              " ('h', ' ', 'f', 'r', 'e', 'q', 'u', 'e'),\n",
              " (' ', 'f', 'r', 'e', 'q', 'u', 'e', 'n'),\n",
              " ('f', 'r', 'e', 'q', 'u', 'e', 'n', 'c'),\n",
              " ('r', 'e', 'q', 'u', 'e', 'n', 'c', 'y'),\n",
              " ('e', 'q', 'u', 'e', 'n', 'c', 'y', ' '),\n",
              " ('q', 'u', 'e', 'n', 'c', 'y', ' ', 'i'),\n",
              " ('u', 'e', 'n', 'c', 'y', ' ', 'i', 'n'),\n",
              " ('e', 'n', 'c', 'y', ' ', 'i', 'n', ' '),\n",
              " ('n', 'c', 'y', ' ', 'i', 'n', ' ', 't'),\n",
              " ('c', 'y', ' ', 'i', 'n', ' ', 't', 'h'),\n",
              " ('y', ' ', 'i', 'n', ' ', 't', 'h', 'a'),\n",
              " (' ', 'i', 'n', ' ', 't', 'h', 'a', 't'),\n",
              " ('i', 'n', ' ', 't', 'h', 'a', 't', ' '),\n",
              " ('n', ' ', 't', 'h', 'a', 't', ' ', 'd'),\n",
              " (' ', 't', 'h', 'a', 't', ' ', 'd', 'o'),\n",
              " ('t', 'h', 'a', 't', ' ', 'd', 'o', 'c'),\n",
              " ('h', 'a', 't', ' ', 'd', 'o', 'c', 'u'),\n",
              " ('a', 't', ' ', 'd', 'o', 'c', 'u', 'm'),\n",
              " ('t', ' ', 'd', 'o', 'c', 'u', 'm', 'e'),\n",
              " (' ', 'd', 'o', 'c', 'u', 'm', 'e', 'n'),\n",
              " ('d', 'o', 'c', 'u', 'm', 'e', 'n', 't'),\n",
              " ('o', 'c', 'u', 'm', 'e', 'n', 't', ','),\n",
              " ('c', 'u', 'm', 'e', 'n', 't', ',', ' '),\n",
              " ('u', 'm', 'e', 'n', 't', ',', ' ', 'l'),\n",
              " ('m', 'e', 'n', 't', ',', ' ', 'l', 'o'),\n",
              " ('e', 'n', 't', ',', ' ', 'l', 'o', 'w'),\n",
              " ('n', 't', ',', ' ', 'l', 'o', 'w', ' '),\n",
              " ('t', ',', ' ', 'l', 'o', 'w', ' ', 'f'),\n",
              " (',', ' ', 'l', 'o', 'w', ' ', 'f', 'r'),\n",
              " (' ', 'l', 'o', 'w', ' ', 'f', 'r', 'e'),\n",
              " ('l', 'o', 'w', ' ', 'f', 'r', 'e', 'q'),\n",
              " ('o', 'w', ' ', 'f', 'r', 'e', 'q', 'u'),\n",
              " ('w', ' ', 'f', 'r', 'e', 'q', 'u', 'e'),\n",
              " (' ', 'f', 'r', 'e', 'q', 'u', 'e', 'n'),\n",
              " ('f', 'r', 'e', 'q', 'u', 'e', 'n', 'c'),\n",
              " ('r', 'e', 'q', 'u', 'e', 'n', 'c', 'y'),\n",
              " ('e', 'q', 'u', 'e', 'n', 'c', 'y', ' '),\n",
              " ('q', 'u', 'e', 'n', 'c', 'y', ' ', 'i'),\n",
              " ('u', 'e', 'n', 'c', 'y', ' ', 'i', 'n'),\n",
              " ('e', 'n', 'c', 'y', ' ', 'i', 'n', ' '),\n",
              " ('n', 'c', 'y', ' ', 'i', 'n', ' ', 'o'),\n",
              " ('c', 'y', ' ', 'i', 'n', ' ', 'o', 't'),\n",
              " ('y', ' ', 'i', 'n', ' ', 'o', 't', 'h'),\n",
              " (' ', 'i', 'n', ' ', 'o', 't', 'h', 'e'),\n",
              " ('i', 'n', ' ', 'o', 't', 'h', 'e', 'r'),\n",
              " ('n', ' ', 'o', 't', 'h', 'e', 'r', ' '),\n",
              " (' ', 'o', 't', 'h', 'e', 'r', ' ', 'd'),\n",
              " ('o', 't', 'h', 'e', 'r', ' ', 'd', 'o'),\n",
              " ('t', 'h', 'e', 'r', ' ', 'd', 'o', 'c'),\n",
              " ('h', 'e', 'r', ' ', 'd', 'o', 'c', 'u'),\n",
              " ('e', 'r', ' ', 'd', 'o', 'c', 'u', 'm'),\n",
              " ('r', ' ', 'd', 'o', 'c', 'u', 'm', 'e'),\n",
              " (' ', 'd', 'o', 'c', 'u', 'm', 'e', 'n'),\n",
              " ('d', 'o', 'c', 'u', 'm', 'e', 'n', 't'),\n",
              " ('o', 'c', 'u', 'm', 'e', 'n', 't', 's')]"
            ]
          },
          "metadata": {
            "tags": []
          },
          "execution_count": 65
        }
      ]
    },
    {
      "cell_type": "markdown",
      "metadata": {
        "id": "syquapPCzjxJ"
      },
      "source": [
        "Stemming"
      ]
    },
    {
      "cell_type": "code",
      "metadata": {
        "id": "lm4_bn2sxfex",
        "colab": {
          "base_uri": "https://localhost:8080/",
          "height": 34
        },
        "outputId": "8a6d928b-f614-4c22-f7ea-04d607324340"
      },
      "source": [
        "from nltk.stem import PorterStemmer\n",
        "p=PorterStemmer()\n",
        "p.stem('having')"
      ],
      "execution_count": null,
      "outputs": [
        {
          "output_type": "execute_result",
          "data": {
            "text/plain": [
              "'have'"
            ]
          },
          "metadata": {
            "tags": []
          },
          "execution_count": 67
        }
      ]
    },
    {
      "cell_type": "code",
      "metadata": {
        "id": "OWrFU2ZiyIJY",
        "colab": {
          "base_uri": "https://localhost:8080/",
          "height": 34
        },
        "outputId": "c332ca95-a7a1-4b33-c928-cf37a4085795"
      },
      "source": [
        "p.stem(\"bala\")"
      ],
      "execution_count": null,
      "outputs": [
        {
          "output_type": "execute_result",
          "data": {
            "text/plain": [
              "'bala'"
            ]
          },
          "metadata": {
            "tags": []
          },
          "execution_count": 68
        }
      ]
    },
    {
      "cell_type": "code",
      "metadata": {
        "id": "7ofJwGKYyON-",
        "colab": {
          "base_uri": "https://localhost:8080/",
          "height": 69
        },
        "outputId": "88764b11-c095-4624-d458-0615b27eb98f"
      },
      "source": [
        "b=['bala','mahesh','chilakala']\n",
        "for i in b:\n",
        "  print(p.stem(i))"
      ],
      "execution_count": null,
      "outputs": [
        {
          "output_type": "stream",
          "text": [
            "bala\n",
            "mahesh\n",
            "chilakala\n"
          ],
          "name": "stdout"
        }
      ]
    },
    {
      "cell_type": "code",
      "metadata": {
        "id": "XVV4Be99yd4H",
        "colab": {
          "base_uri": "https://localhost:8080/",
          "height": 34
        },
        "outputId": "2a25e0df-aab7-4f46-c0f4-663fe210a4ea"
      },
      "source": [
        "from nltk.stem import LancasterStemmer\n",
        "l=LancasterStemmer()\n",
        "l.stem('having')"
      ],
      "execution_count": null,
      "outputs": [
        {
          "output_type": "execute_result",
          "data": {
            "text/plain": [
              "'hav'"
            ]
          },
          "metadata": {
            "tags": []
          },
          "execution_count": 71
        }
      ]
    },
    {
      "cell_type": "code",
      "metadata": {
        "id": "TVwri7Cny8YD",
        "colab": {
          "base_uri": "https://localhost:8080/",
          "height": 69
        },
        "outputId": "64a94db7-51e7-418c-a193-97ffa7ea76cd"
      },
      "source": [
        "for i in b:\n",
        "  print(l.stem(i))"
      ],
      "execution_count": null,
      "outputs": [
        {
          "output_type": "stream",
          "text": [
            "bal\n",
            "mahesh\n",
            "chilakal\n"
          ],
          "name": "stdout"
        }
      ]
    },
    {
      "cell_type": "markdown",
      "metadata": {
        "id": "_bqbnhym0tT4"
      },
      "source": [
        "Lemmatization"
      ]
    },
    {
      "cell_type": "code",
      "metadata": {
        "id": "GVxRLtbUzCrx",
        "colab": {
          "base_uri": "https://localhost:8080/",
          "height": 69
        },
        "outputId": "9dffcbd5-51e8-4a51-9561-a8adbb4efebf"
      },
      "source": [
        "nltk.download('wordnet')\n",
        "from nltk.stem import wordnet\n",
        "from nltk.stem import WordNetLemmatizer\n",
        "lem=WordNetLemmatizer()\n",
        "lem"
      ],
      "execution_count": null,
      "outputs": [
        {
          "output_type": "stream",
          "text": [
            "[nltk_data] Downloading package wordnet to /root/nltk_data...\n",
            "[nltk_data]   Unzipping corpora/wordnet.zip.\n"
          ],
          "name": "stdout"
        },
        {
          "output_type": "execute_result",
          "data": {
            "text/plain": [
              "<WordNetLemmatizer>"
            ]
          },
          "metadata": {
            "tags": []
          },
          "execution_count": 76
        }
      ]
    },
    {
      "cell_type": "code",
      "metadata": {
        "id": "ymhi30hH0D6r",
        "colab": {
          "base_uri": "https://localhost:8080/",
          "height": 34
        },
        "outputId": "78dcc9a0-7c64-4b64-c99f-d89b05460947"
      },
      "source": [
        "lem.lemmatize('bala')"
      ],
      "execution_count": null,
      "outputs": [
        {
          "output_type": "execute_result",
          "data": {
            "text/plain": [
              "'bala'"
            ]
          },
          "metadata": {
            "tags": []
          },
          "execution_count": 77
        }
      ]
    },
    {
      "cell_type": "code",
      "metadata": {
        "id": "AfyjjQwY0G6-",
        "colab": {
          "base_uri": "https://localhost:8080/",
          "height": 69
        },
        "outputId": "160a5411-224c-403e-9d00-e5a2489ac1e5"
      },
      "source": [
        "for i in b:\n",
        "  print(lem.lemmatize(i))"
      ],
      "execution_count": null,
      "outputs": [
        {
          "output_type": "stream",
          "text": [
            "bala\n",
            "mahesh\n",
            "chilakala\n"
          ],
          "name": "stdout"
        }
      ]
    },
    {
      "cell_type": "markdown",
      "metadata": {
        "id": "ngMS_mwm0whZ"
      },
      "source": [
        "Stop words"
      ]
    },
    {
      "cell_type": "code",
      "metadata": {
        "id": "bmWXWZbA0mi9",
        "colab": {
          "base_uri": "https://localhost:8080/",
          "height": 1000
        },
        "outputId": "279e402e-92f7-40fb-b703-037ba0cc7d52"
      },
      "source": [
        "nltk.download('stopwords')\n",
        "from nltk.corpus import stopwords\n",
        "s=stopwords.words('english')\n",
        "s"
      ],
      "execution_count": null,
      "outputs": [
        {
          "output_type": "stream",
          "text": [
            "[nltk_data] Downloading package stopwords to /root/nltk_data...\n",
            "[nltk_data]   Package stopwords is already up-to-date!\n"
          ],
          "name": "stdout"
        },
        {
          "output_type": "execute_result",
          "data": {
            "text/plain": [
              "['i',\n",
              " 'me',\n",
              " 'my',\n",
              " 'myself',\n",
              " 'we',\n",
              " 'our',\n",
              " 'ours',\n",
              " 'ourselves',\n",
              " 'you',\n",
              " \"you're\",\n",
              " \"you've\",\n",
              " \"you'll\",\n",
              " \"you'd\",\n",
              " 'your',\n",
              " 'yours',\n",
              " 'yourself',\n",
              " 'yourselves',\n",
              " 'he',\n",
              " 'him',\n",
              " 'his',\n",
              " 'himself',\n",
              " 'she',\n",
              " \"she's\",\n",
              " 'her',\n",
              " 'hers',\n",
              " 'herself',\n",
              " 'it',\n",
              " \"it's\",\n",
              " 'its',\n",
              " 'itself',\n",
              " 'they',\n",
              " 'them',\n",
              " 'their',\n",
              " 'theirs',\n",
              " 'themselves',\n",
              " 'what',\n",
              " 'which',\n",
              " 'who',\n",
              " 'whom',\n",
              " 'this',\n",
              " 'that',\n",
              " \"that'll\",\n",
              " 'these',\n",
              " 'those',\n",
              " 'am',\n",
              " 'is',\n",
              " 'are',\n",
              " 'was',\n",
              " 'were',\n",
              " 'be',\n",
              " 'been',\n",
              " 'being',\n",
              " 'have',\n",
              " 'has',\n",
              " 'had',\n",
              " 'having',\n",
              " 'do',\n",
              " 'does',\n",
              " 'did',\n",
              " 'doing',\n",
              " 'a',\n",
              " 'an',\n",
              " 'the',\n",
              " 'and',\n",
              " 'but',\n",
              " 'if',\n",
              " 'or',\n",
              " 'because',\n",
              " 'as',\n",
              " 'until',\n",
              " 'while',\n",
              " 'of',\n",
              " 'at',\n",
              " 'by',\n",
              " 'for',\n",
              " 'with',\n",
              " 'about',\n",
              " 'against',\n",
              " 'between',\n",
              " 'into',\n",
              " 'through',\n",
              " 'during',\n",
              " 'before',\n",
              " 'after',\n",
              " 'above',\n",
              " 'below',\n",
              " 'to',\n",
              " 'from',\n",
              " 'up',\n",
              " 'down',\n",
              " 'in',\n",
              " 'out',\n",
              " 'on',\n",
              " 'off',\n",
              " 'over',\n",
              " 'under',\n",
              " 'again',\n",
              " 'further',\n",
              " 'then',\n",
              " 'once',\n",
              " 'here',\n",
              " 'there',\n",
              " 'when',\n",
              " 'where',\n",
              " 'why',\n",
              " 'how',\n",
              " 'all',\n",
              " 'any',\n",
              " 'both',\n",
              " 'each',\n",
              " 'few',\n",
              " 'more',\n",
              " 'most',\n",
              " 'other',\n",
              " 'some',\n",
              " 'such',\n",
              " 'no',\n",
              " 'nor',\n",
              " 'not',\n",
              " 'only',\n",
              " 'own',\n",
              " 'same',\n",
              " 'so',\n",
              " 'than',\n",
              " 'too',\n",
              " 'very',\n",
              " 's',\n",
              " 't',\n",
              " 'can',\n",
              " 'will',\n",
              " 'just',\n",
              " 'don',\n",
              " \"don't\",\n",
              " 'should',\n",
              " \"should've\",\n",
              " 'now',\n",
              " 'd',\n",
              " 'll',\n",
              " 'm',\n",
              " 'o',\n",
              " 're',\n",
              " 've',\n",
              " 'y',\n",
              " 'ain',\n",
              " 'aren',\n",
              " \"aren't\",\n",
              " 'couldn',\n",
              " \"couldn't\",\n",
              " 'didn',\n",
              " \"didn't\",\n",
              " 'doesn',\n",
              " \"doesn't\",\n",
              " 'hadn',\n",
              " \"hadn't\",\n",
              " 'hasn',\n",
              " \"hasn't\",\n",
              " 'haven',\n",
              " \"haven't\",\n",
              " 'isn',\n",
              " \"isn't\",\n",
              " 'ma',\n",
              " 'mightn',\n",
              " \"mightn't\",\n",
              " 'mustn',\n",
              " \"mustn't\",\n",
              " 'needn',\n",
              " \"needn't\",\n",
              " 'shan',\n",
              " \"shan't\",\n",
              " 'shouldn',\n",
              " \"shouldn't\",\n",
              " 'wasn',\n",
              " \"wasn't\",\n",
              " 'weren',\n",
              " \"weren't\",\n",
              " 'won',\n",
              " \"won't\",\n",
              " 'wouldn',\n",
              " \"wouldn't\"]"
            ]
          },
          "metadata": {
            "tags": []
          },
          "execution_count": 81
        }
      ]
    },
    {
      "cell_type": "code",
      "metadata": {
        "id": "eAAiAMz21DmZ",
        "colab": {
          "base_uri": "https://localhost:8080/",
          "height": 34
        },
        "outputId": "edcd520f-eb73-4994-d29a-6386e27a117d"
      },
      "source": [
        "len(s)"
      ],
      "execution_count": null,
      "outputs": [
        {
          "output_type": "execute_result",
          "data": {
            "text/plain": [
              "179"
            ]
          },
          "metadata": {
            "tags": []
          },
          "execution_count": 82
        }
      ]
    },
    {
      "cell_type": "code",
      "metadata": {
        "id": "YbuRYsO91SYT",
        "colab": {
          "base_uri": "https://localhost:8080/",
          "height": 34
        },
        "outputId": "064c0b03-0f2f-4d03-c2f5-4424828c0095"
      },
      "source": [
        "from nltk.probability import FreqDist\n",
        "f=FreqDist()\n",
        "f.most_common(10)"
      ],
      "execution_count": null,
      "outputs": [
        {
          "output_type": "execute_result",
          "data": {
            "text/plain": [
              "[]"
            ]
          },
          "metadata": {
            "tags": []
          },
          "execution_count": 88
        }
      ]
    },
    {
      "cell_type": "markdown",
      "metadata": {
        "id": "Vc4-s1gl2b1h"
      },
      "source": [
        "POS"
      ]
    },
    {
      "cell_type": "code",
      "metadata": {
        "id": "jDIxdAmU2F_C",
        "colab": {
          "base_uri": "https://localhost:8080/",
          "height": 69
        },
        "outputId": "00654bda-5578-47e6-ad07-cd3ec90d4158"
      },
      "source": [
        "nltk.download('averaged_perceptron_tagger')\n",
        "a=\"bala mahesh chilakala\"\n",
        "w=word_tokenize(a)\n"
      ],
      "execution_count": null,
      "outputs": [
        {
          "output_type": "stream",
          "text": [
            "[nltk_data] Downloading package averaged_perceptron_tagger to\n",
            "[nltk_data]     /root/nltk_data...\n",
            "[nltk_data]   Unzipping taggers/averaged_perceptron_tagger.zip.\n"
          ],
          "name": "stdout"
        }
      ]
    },
    {
      "cell_type": "code",
      "metadata": {
        "id": "3sDA0uJU2lpI",
        "colab": {
          "base_uri": "https://localhost:8080/",
          "height": 69
        },
        "outputId": "31d65766-70a7-4980-92b8-27383f545154"
      },
      "source": [
        "for i in w:\n",
        "  print(nltk.pos_tag([i]))"
      ],
      "execution_count": null,
      "outputs": [
        {
          "output_type": "stream",
          "text": [
            "[('bala', 'NN')]\n",
            "[('mahesh', 'NN')]\n",
            "[('chilakala', 'NN')]\n"
          ],
          "name": "stdout"
        }
      ]
    }
  ]
}